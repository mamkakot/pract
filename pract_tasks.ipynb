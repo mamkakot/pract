{
 "cells": [
  {
   "cell_type": "markdown",
   "metadata": {},
   "source": [
    "# Task 2"
   ]
  },
  {
   "cell_type": "markdown",
   "metadata": {},
   "source": [
    "Разработать программу, реализующую алгоритм автоматической группировки\n",
    "(кластеризации) k-средних c манхэттенской (прямоугольной) мерой расстояния.\n",
    "Использовать любой алгоритмический язык программирования."
   ]
  },
  {
   "cell_type": "code",
   "execution_count": 1,
   "metadata": {},
   "outputs": [],
   "source": [
    "import numpy as np\n",
    "from sklearn.cluster import KMeans\n",
    "import pandas as pd"
   ]
  },
  {
   "cell_type": "code",
   "execution_count": 2,
   "metadata": {},
   "outputs": [
    {
     "data": {
      "text/plain": [
       "array([[12.3, 17.9],\n",
       "       [13. , 19.4],\n",
       "       [11.3, 17.8],\n",
       "       [11.4, 18.8],\n",
       "       [13.1, 19.1],\n",
       "       [12.3, 17.9],\n",
       "       [13. , 19.4],\n",
       "       [11.3, 17.8],\n",
       "       [11.4, 18.8],\n",
       "       [13.1, 19.1]])"
      ]
     },
     "execution_count": 2,
     "metadata": {},
     "output_type": "execute_result"
    }
   ],
   "source": [
    "with open('data.txt') as file:\n",
    "    k = int(file.readline().split()[1])\n",
    "\n",
    "df = np.array(pd.read_csv('data.txt', sep=' '))\n",
    "df"
   ]
  },
  {
   "cell_type": "code",
   "execution_count": 3,
   "metadata": {},
   "outputs": [],
   "source": [
    "class K_Means:\n",
    "\n",
    "    def __init__(self, k=2, tol=0.001, max_iter=300):\n",
    "        self.k = k\n",
    "        self.tol = tol\n",
    "        self.max_iter = max_iter\n",
    "\n",
    "    def manhattan_distance(self, *args):\n",
    "        return np.sum(np.abs(args[0] - args[1]))\n",
    "    \n",
    "    def fit(self, data):\n",
    "        self.centroids = dict(zip([i for i in range(k)], data[np.random.randint(len(data), size=self.k)]))\n",
    "\n",
    "        for i in range(self.max_iter):\n",
    "            self.classifications = {}\n",
    "\n",
    "            for i in range(self.k):\n",
    "                self.classifications[i] = []\n",
    "\n",
    "            for featureset in data:\n",
    "                distances = [self.manhattan_distance(featureset, self.centroids[i]) for i in self.centroids]\n",
    "                classification = distances.index(min(distances))\n",
    "                self.classifications[classification].append(featureset)\n",
    "\n",
    "            prev_centroids = self.centroids\n",
    "\n",
    "            for classification in self.classifications:\n",
    "                try:\n",
    "                    self.centroids[classification] = np.seterr(np.average(self.classifications[classification], axis=0))\n",
    "                except:\n",
    "                    self.centroids[classification] = prev_centroids[classification]\n",
    "            \n",
    "            optimized = True\n",
    "\n",
    "            for c in self.centroids:\n",
    "                original_centroid = prev_centroids[c]\n",
    "                current_centroid = self.centroids[c]\n",
    "                if np.sum((current_centroid - original_centroid) / original_centroid * 100.0) > self.tol:\n",
    "                    print(np.sum((current_centroid - original_centroid) / original_centroid * 100.0))\n",
    "                    optimized = False\n",
    "\n",
    "            if optimized:\n",
    "                break\n",
    "\n",
    "    def predict(self, data):\n",
    "        distances = [self.manhattan_distance(data, self.centroids[centroid])\n",
    "                     for centroid in self.centroids]\n",
    "        classification = distances.index(min(distances))\n",
    "        return classification"
   ]
  },
  {
   "cell_type": "code",
   "execution_count": 4,
   "metadata": {},
   "outputs": [
    {
     "data": {
      "image/png": "[encoded data removed]",
      "text/plain": [
       "<Figure size 432x288 with 1 Axes>"
      ]
     },
     "metadata": {},
     "output_type": "display_data"
    }
   ],
   "source": [
    "import matplotlib.pyplot as plt\n",
    "from matplotlib import style\n",
    "style.use('ggplot')\n",
    "\n",
    "colors = ['red', 'green', 'blue']\n",
    "\n",
    "model = K_Means(k=k)\n",
    "model.fit(df)\n",
    "for centroid in model.centroids:\n",
    "    plt.scatter(model.centroids[centroid][0], model.centroids[centroid][1],\n",
    "                marker=\"*\", color=\"k\", s=150, linewidths=2)\n",
    "\n",
    "for classification in model.classifications:\n",
    "    color = colors[classification]\n",
    "    for featureset in model.classifications[classification]:\n",
    "        plt.scatter(featureset[0], featureset[1], marker=\".\", color=color, s=150, linewidths=2)\n",
    "        \n",
    "plt.show()"
   ]
  },
  {
   "cell_type": "markdown",
   "metadata": {},
   "source": [
    "# Task 1"
   ]
  },
  {
   "cell_type": "markdown",
   "metadata": {},
   "source": [
    "Разработать программу, реализующую алгоритм автоматической группировки\n",
    "(кластеризации) k-средних (обычный, с евклидовой мерой расстояния). Использовать любой\n",
    "алгоритмический язык программирования. Входные данные должны быть представлены в\n",
    "текстовом файле следующего формата."
   ]
  },
  {
   "cell_type": "code",
   "execution_count": 5,
   "metadata": {},
   "outputs": [
    {
     "data": {
      "text/plain": [
       "array([2, 1, 2, 0, 1, 2, 1, 2, 0, 1])"
      ]
     },
     "execution_count": 5,
     "metadata": {},
     "output_type": "execute_result"
    }
   ],
   "source": [
    "df = pd.read_csv('data.txt', sep=' ', header=None, skiprows=1)\n",
    "\n",
    "km = KMeans(n_clusters=k)\n",
    "km.fit(df)\n",
    "predicted_clusters = km.fit_predict(df)\n",
    "predicted_clusters"
   ]
  },
  {
   "cell_type": "code",
   "execution_count": 6,
   "metadata": {},
   "outputs": [
    {
     "data": {
      "text/html": [
       "<div>\n",
       "<style scoped>\n",
       "    .dataframe tbody tr th:only-of-type {\n",
       "        vertical-align: middle;\n",
       "    }\n",
       "\n",
       "    .dataframe tbody tr th {\n",
       "        vertical-align: top;\n",
       "    }\n",
       "\n",
       "    .dataframe thead th {\n",
       "        text-align: right;\n",
       "    }\n",
       "</style>\n",
       "<table border=\"1\" class=\"dataframe\">\n",
       "  <thead>\n",
       "    <tr style=\"text-align: right;\">\n",
       "      <th></th>\n",
       "      <th>0</th>\n",
       "      <th>1</th>\n",
       "      <th>cluster</th>\n",
       "    </tr>\n",
       "  </thead>\n",
       "  <tbody>\n",
       "    <tr>\n",
       "      <th>0</th>\n",
       "      <td>12.3</td>\n",
       "      <td>17.9</td>\n",
       "      <td>2</td>\n",
       "    </tr>\n",
       "    <tr>\n",
       "      <th>1</th>\n",
       "      <td>13.0</td>\n",
       "      <td>19.4</td>\n",
       "      <td>1</td>\n",
       "    </tr>\n",
       "    <tr>\n",
       "      <th>2</th>\n",
       "      <td>11.3</td>\n",
       "      <td>17.8</td>\n",
       "      <td>2</td>\n",
       "    </tr>\n",
       "    <tr>\n",
       "      <th>3</th>\n",
       "      <td>11.4</td>\n",
       "      <td>18.8</td>\n",
       "      <td>0</td>\n",
       "    </tr>\n",
       "    <tr>\n",
       "      <th>4</th>\n",
       "      <td>13.1</td>\n",
       "      <td>19.1</td>\n",
       "      <td>1</td>\n",
       "    </tr>\n",
       "    <tr>\n",
       "      <th>5</th>\n",
       "      <td>12.3</td>\n",
       "      <td>17.9</td>\n",
       "      <td>2</td>\n",
       "    </tr>\n",
       "    <tr>\n",
       "      <th>6</th>\n",
       "      <td>13.0</td>\n",
       "      <td>19.4</td>\n",
       "      <td>1</td>\n",
       "    </tr>\n",
       "  </tbody>\n",
       "</table>\n",
       "</div>"
      ],
      "text/plain": [
       "      0     1  cluster\n",
       "0  12.3  17.9        2\n",
       "1  13.0  19.4        1\n",
       "2  11.3  17.8        2\n",
       "3  11.4  18.8        0\n",
       "4  13.1  19.1        1\n",
       "5  12.3  17.9        2\n",
       "6  13.0  19.4        1"
      ]
     },
     "execution_count": 6,
     "metadata": {},
     "output_type": "execute_result"
    }
   ],
   "source": [
    "df['cluster'] = predicted_clusters\n",
    "df.head(7)"
   ]
  },
  {
   "cell_type": "code",
   "execution_count": 7,
   "metadata": {},
   "outputs": [
    {
     "data": {
      "image/png": "[encoded data removed]",
      "text/plain": [
       "<Figure size 432x288 with 1 Axes>"
      ]
     },
     "metadata": {},
     "output_type": "display_data"
    }
   ],
   "source": [
    "import matplotlib.pyplot as plt\n",
    "fig, ax = plt.subplots()\n",
    "ax.scatter(df[0], df[1], c=km.labels_.astype(float))\n",
    "ax.grid()\n",
    "ax.set_xlabel('x1')\n",
    "ax.set_ylabel('x2')\n",
    "plt.show()"
   ]
  },
  {
   "cell_type": "markdown",
   "metadata": {},
   "source": [
    "# Task 3"
   ]
  },
  {
   "cell_type": "markdown",
   "metadata": {},
   "source": [
    "Пусть имеется входной текстовый файл, содержащий текст на английском языке\n",
    "(обрабатываются только буквы английского алфавита, все остальные символы\n",
    "игнорируются). Программа должна выводить в выходной файл множество всех слов,\n",
    "встречающихся во входном файле. Слова в выходном файле не должны повторяться. В\n",
    "выходном файле все слова должны быть выведены в одну строку и должны быть разделены\n",
    "пробелами."
   ]
  },
  {
   "cell_type": "code",
   "execution_count": 8,
   "metadata": {},
   "outputs": [],
   "source": [
    "def nospecial(text):\n",
    "\timport re\n",
    "\ttext = re.sub(\"[^A-Z]+\", \" \",text)\n",
    "\treturn text"
   ]
  },
  {
   "cell_type": "code",
   "execution_count": 9,
   "metadata": {},
   "outputs": [
    {
     "data": {
      "text/plain": [
       "['IN',\n",
       " 'MATHEMATICS',\n",
       " 'AND',\n",
       " 'COMPUTER',\n",
       " 'SCIENCE',\n",
       " 'AN',\n",
       " 'ALGORITHM',\n",
       " 'IS',\n",
       " 'A',\n",
       " 'SET',\n",
       " 'OF',\n",
       " 'INSTRUCTIONS',\n",
       " 'TO',\n",
       " 'SOLVE',\n",
       " 'CLASS',\n",
       " 'PROBLEMS',\n",
       " 'OR',\n",
       " 'PERFORM',\n",
       " 'COMPUTATION',\n",
       " 'ALGORITHMS',\n",
       " 'ARE',\n",
       " 'UNAMBIGUOUS',\n",
       " 'SPECIFICATIONS',\n",
       " 'CALCULATION',\n",
       " 'OTHER',\n",
       " 'TASKS',\n",
       " 'CAN',\n",
       " 'BE',\n",
       " 'EXPRESSED',\n",
       " 'WITHIN',\n",
       " 'FINITE',\n",
       " 'AMOUNT',\n",
       " 'SPACE',\n",
       " 'TIME',\n",
       " 'WELL',\n",
       " 'DEFINED',\n",
       " 'FORMAL',\n",
       " 'LANGUAGE',\n",
       " 'FOR',\n",
       " 'FUNCTION']"
      ]
     },
     "execution_count": 9,
     "metadata": {},
     "output_type": "execute_result"
    }
   ],
   "source": [
    "with open('input.txt') as text_file:\n",
    "    words_array = sorted(set(a := nospecial(text_file.read().upper()).split()), key=a.index)\n",
    "words_array"
   ]
  },
  {
   "cell_type": "code",
   "execution_count": 10,
   "metadata": {},
   "outputs": [],
   "source": [
    "with open(\"output.txt\", \"w\") as f:\n",
    "    f.write(' '.join(words_array))"
   ]
  },
  {
   "cell_type": "markdown",
   "metadata": {},
   "source": [
    "# Task 4"
   ]
  },
  {
   "cell_type": "markdown",
   "metadata": {},
   "source": [
    "Имеется входной текстовый файл, в котором каждая строка представляет собой\n",
    "множество слов, разделенных пробелом. Слова в пределах строки не повторяются.\n",
    "Составить программу, рассчитывающую матрицу попарных расстояний в метрике Жаккара (в\n",
    "жаккаровых/жаккардовых расстояний, Jaccard metric) между множествами слов."
   ]
  },
  {
   "cell_type": "code",
   "execution_count": 11,
   "metadata": {},
   "outputs": [],
   "source": [
    "def jaccard_distance(s1: str, s2: str) -> float:\n",
    "    set1 = set(s1.split())\n",
    "    set2 = set(s2.split())\n",
    "    return 1 - float(len(set1.intersection(set2)) / len(set1.union(set2)))"
   ]
  },
  {
   "cell_type": "code",
   "execution_count": 12,
   "metadata": {},
   "outputs": [],
   "source": [
    "with open('input_jaccard.txt') as ij:\n",
    "    strings = ij.read().split('\\n')"
   ]
  },
  {
   "cell_type": "code",
   "execution_count": 13,
   "metadata": {},
   "outputs": [
    {
     "data": {
      "text/plain": [
       "[[0.0,\n",
       "  0.6666666666666667,\n",
       "  0.6,\n",
       "  0.8333333333333334,\n",
       "  1.0,\n",
       "  0.8333333333333334,\n",
       "  0.6666666666666667],\n",
       " [0.6666666666666667,\n",
       "  0.0,\n",
       "  0.6,\n",
       "  0.8333333333333334,\n",
       "  0.875,\n",
       "  1.0,\n",
       "  0.8571428571428572],\n",
       " [0.6, 0.6, 0.0, 1.0, 1.0, 0.8, 0.8333333333333334],\n",
       " [0.8333333333333334,\n",
       "  0.8333333333333334,\n",
       "  1.0,\n",
       "  0.0,\n",
       "  1.0,\n",
       "  1.0,\n",
       "  0.8333333333333334],\n",
       " [1.0, 0.875, 1.0, 1.0, 0.0, 1.0, 1.0],\n",
       " [0.8333333333333334, 1.0, 0.8, 1.0, 1.0, 0.0, 0.6],\n",
       " [0.6666666666666667,\n",
       "  0.8571428571428572,\n",
       "  0.8333333333333334,\n",
       "  0.8333333333333334,\n",
       "  1.0,\n",
       "  0.6,\n",
       "  0.0]]"
      ]
     },
     "execution_count": 13,
     "metadata": {},
     "output_type": "execute_result"
    }
   ],
   "source": [
    "jaccard_matrix = [[jaccard_distance(j, i) for j in strings] for i in strings]\n",
    "jaccard_matrix"
   ]
  },
  {
   "cell_type": "code",
   "execution_count": 14,
   "metadata": {},
   "outputs": [],
   "source": [
    "with open(\"output_jaccard.txt\", \"w\") as f:\n",
    "    f.write(f\"{len(jaccard_matrix)}\")\n",
    "    for i in jaccard_matrix:\n",
    "        f.write(f\"\\n{' '.join(str(x) for x in i)}\")"
   ]
  },
  {
   "cell_type": "markdown",
   "metadata": {},
   "source": [
    "# Task 5"
   ]
  },
  {
   "cell_type": "markdown",
   "metadata": {},
   "source": [
    "Составить программу, реализующую алгоритм PAM (Partition Around Medoids),\n",
    "разделяющую множество объектов, представленное матрицей попарных расстояний, на два\n",
    "кластера."
   ]
  },
  {
   "cell_type": "code",
   "execution_count": 15,
   "metadata": {},
   "outputs": [],
   "source": [
    "def sum_of_distances(i1: int, i2: int, arr: list) -> float:\n",
    "    s = 0\n",
    "    for j in range(len(arr)):\n",
    "        s += min(arr[j][i1], arr[j][i2])\n",
    "    return s"
   ]
  },
  {
   "cell_type": "code",
   "execution_count": 26,
   "metadata": {},
   "outputs": [],
   "source": [
    "import random\n",
    "import plotly.express as px\n",
    "\n",
    "with open(\"output_jaccard.txt\", 'r') as f:\n",
    "    f.readline()\n",
    "    d = [list(map(float, l.split())) for l in f.read().split('\\n')]"
   ]
  },
  {
   "cell_type": "code",
   "execution_count": 63,
   "metadata": {},
   "outputs": [
    {
     "name": "stdout",
     "output_type": "stream",
     "text": [
      "5 1\n"
     ]
    }
   ],
   "source": [
    "l = len(d)\n",
    "i1, i2 = random.sample(range(0, l), 2)\n",
    "\n",
    "for i in range(1000):\n",
    "    s0 = sum_of_distances(i1, i2, d)\n",
    "\n",
    "    for j in range(l):\n",
    "        i3 = i1\n",
    "        i1 = j\n",
    "        s1 = sum_of_distances(i1, i2, d)\n",
    "        if s1 < s0:\n",
    "            i3 = j\n",
    "            s0 = s1\n",
    "            break\n",
    "    i1 = i3\n",
    "\n",
    "    for j in range(l):\n",
    "        i3 = i2\n",
    "        i2 = j\n",
    "        s2 = sum_of_distances(i1, i2, d)\n",
    "        if s2 < s0:\n",
    "            i3 = j\n",
    "            s0 = s2\n",
    "            break\n",
    "    i2 = i3\n",
    "\n",
    "print(i1, i2)"
   ]
  },
  {
   "cell_type": "code",
   "execution_count": 64,
   "metadata": {},
   "outputs": [
    {
     "data": {
      "text/plain": [
       "[1, 1, 1, 1, 1, 0, 0]"
      ]
     },
     "execution_count": 64,
     "metadata": {},
     "output_type": "execute_result"
    }
   ],
   "source": [
    "clusters = []\n",
    "for i in range(len(d)):\n",
    "    clusters.append(0 if d[i][i1] < d[i][i2] else 1)\n",
    "clusters"
   ]
  },
  {
   "cell_type": "code",
   "execution_count": 65,
   "metadata": {},
   "outputs": [
    {
     "data": {
      "image/png": "[encoded data removed]",
      "text/plain": [
       "<Figure size 432x288 with 1 Axes>"
      ]
     },
     "metadata": {},
     "output_type": "display_data"
    }
   ],
   "source": [
    "colors = ['red', 'blue']\n",
    "markers = ['.', 'v']\n",
    "for cluster, point in zip(clusters, d):\n",
    "    marker = 'p' if point == d[i1] or point == d[i2] else markers[cluster]\n",
    "    color = colors[cluster]\n",
    "\n",
    "    plt.scatter(point[0], point[1], marker=marker, color=color, s=150, linewidths=cluster+2)\n",
    "\n",
    "plt.show()"
   ]
  }
 ],
 "metadata": {
  "kernelspec": {
   "display_name": "Python 3.9.12 ('py39')",
   "language": "python",
   "name": "python3"
  },
  "language_info": {
   "codemirror_mode": {
    "name": "ipython",
    "version": 3
   },
   "file_extension": ".py",
   "mimetype": "text/x-python",
   "name": "python",
   "nbconvert_exporter": "python",
   "pygments_lexer": "ipython3",
   "version": "3.9.12"
  },
  "orig_nbformat": 4,
  "vscode": {
   "interpreter": {
    "hash": "8571e7f3e92f6e490cddd84ef78d4e4e0b96a1f565959148b10a39523fba88f5"
   }
  }
 },
 "nbformat": 4,
 "nbformat_minor": 2
}
