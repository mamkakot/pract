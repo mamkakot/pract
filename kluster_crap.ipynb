{
 "cells": [
  {
   "cell_type": "code",
   "execution_count": 2,
   "outputs": [],
   "source": [
    "from sklearn.feature_extraction.text import TfidfVectorizer\n",
    "from sklearn.cluster import KMeans\n",
    "from sklearn.pipeline import Pipeline\n",
    "import re"
   ],
   "metadata": {
    "collapsed": false
   }
  },
  {
   "cell_type": "code",
   "execution_count": 3,
   "outputs": [],
   "source": [
    "def text_cleaner(text):\n",
    "    text = text.lower()  # приведение в lowercase,\n",
    "\n",
    "    text = re.sub(r'https?://[\\S]+', ' url ', text)  # замена интернет ссылок\n",
    "    text = re.sub(r'[\\w\\./]+\\.[a-z]+', ' url ', text)\n",
    "\n",
    "    text = re.sub(r'\\d+[-/\\.]\\d+[-/\\.]\\d+', ' date ', text)  # замена даты и времени\n",
    "    text = re.sub(r'\\d+ ?гг?', ' date ', text)\n",
    "    text = re.sub(r'\\d+:\\d+(:\\d+)?', ' time ', text)\n",
    "\n",
    "    # text = re.sub( r'@\\w+', ' tname ', text ) # замена имён twiter\n",
    "    # text = re.sub( r'#\\w+', ' htag ', text ) # замена хештегов\n",
    "\n",
    "    text = re.sub(r'<[^>]*>', ' ', text)  # удаление html тагов\n",
    "    text = re.sub(r'[\\W]+', ' ', text)  # удаление лишних символов\n",
    "\n",
    "    stemmer = Stemmer('russian')\n",
    "    text = ' '.join(stemmer.stemWords(text.split()))\n",
    "\n",
    "    stw = ['в', 'по', 'на', 'из', 'и', 'или', 'не', 'но', 'за', 'над', 'под', 'то',\n",
    "           'a', 'at', 'on', 'of', 'and', 'or', 'in', 'for', 'at']\n",
    "    remove = r'\\b(' + '|'.join(stw) + ')\\b'\n",
    "    text = re.sub(remove, ' ', text)\n",
    "\n",
    "    text = re.sub(r'\\b\\w\\b', ' ', text)  # удаление отдельно стоящих букв\n",
    "\n",
    "    text = re.sub(r'\\b\\d+\\b', ' digit ', text)  # замена цифр\n",
    "\n",
    "    return text"
   ],
   "metadata": {
    "collapsed": false
   }
  }
 ],
 "metadata": {
  "kernelspec": {
   "display_name": "Python 3",
   "language": "python",
   "name": "python3"
  },
  "language_info": {
   "codemirror_mode": {
    "name": "ipython",
    "version": 2
   },
   "file_extension": ".py",
   "mimetype": "text/x-python",
   "name": "python",
   "nbconvert_exporter": "python",
   "pygments_lexer": "ipython2",
   "version": "2.7.6"
  }
 },
 "nbformat": 4,
 "nbformat_minor": 0
}
